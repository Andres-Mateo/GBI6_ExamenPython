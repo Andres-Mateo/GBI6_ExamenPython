{
 "cells": [
  {
   "cell_type": "markdown",
   "id": "82539409",
   "metadata": {},
   "source": [
    "<img src=\"data:image/png;base64,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\" width=300 height=240 />\n",
    "\n",
    "# EXAMEN PARCIAL PYTHON\n",
    "    \n",
    "## GBI6-2021II: BIOINFORMÁTICA\n",
    "\n",
    "**Benalcazar Mera, Andres Mateo**\n",
    "\n",
    "**03-08-2022**"
   ]
  },
  {
   "cell_type": "code",
   "execution_count": 2,
   "id": "3c4f9bdb",
   "metadata": {},
   "outputs": [],
   "source": [
    "import pandas as pd"
   ]
  },
  {
   "cell_type": "code",
   "execution_count": 3,
   "id": "8ee9b7ec",
   "metadata": {},
   "outputs": [
    {
     "data": {
      "text/html": [
       "<div>\n",
       "<style scoped>\n",
       "    .dataframe tbody tr th:only-of-type {\n",
       "        vertical-align: middle;\n",
       "    }\n",
       "\n",
       "    .dataframe tbody tr th {\n",
       "        vertical-align: top;\n",
       "    }\n",
       "\n",
       "    .dataframe thead th {\n",
       "        text-align: right;\n",
       "    }\n",
       "</style>\n",
       "<table border=\"1\" class=\"dataframe\">\n",
       "  <thead>\n",
       "    <tr style=\"text-align: right;\">\n",
       "      <th></th>\n",
       "      <th>Modelo</th>\n",
       "      <th>Sistema</th>\n",
       "    </tr>\n",
       "  </thead>\n",
       "  <tbody>\n",
       "    <tr>\n",
       "      <th>1</th>\n",
       "      <td>DESKTOP-U73I4LB</td>\n",
       "      <td>Procesador AMD A9-9420</td>\n",
       "    </tr>\n",
       "    <tr>\n",
       "      <th>2</th>\n",
       "      <td>Color dorado</td>\n",
       "      <td>memoria RAM 8 GB</td>\n",
       "    </tr>\n",
       "    <tr>\n",
       "      <th>3</th>\n",
       "      <td>Pantalla ful HD no tactil</td>\n",
       "      <td>Sistema operativo Windows 10 de 64 bits</td>\n",
       "    </tr>\n",
       "  </tbody>\n",
       "</table>\n",
       "</div>"
      ],
      "text/plain": [
       "                      Modelo                                  Sistema\n",
       "1            DESKTOP-U73I4LB                   Procesador AMD A9-9420\n",
       "2               Color dorado                         memoria RAM 8 GB\n",
       "3  Pantalla ful HD no tactil  Sistema operativo Windows 10 de 64 bits"
      ]
     },
     "execution_count": 3,
     "metadata": {},
     "output_type": "execute_result"
    }
   ],
   "source": [
    "tabla = pd.DataFrame({\"Modelo\" : pd.Categorical([\"DESKTOP-U73I4LB\",\n",
    "                                                 \"Color dorado\",\n",
    "                                                 \"Pantalla ful HD no tactil\"]),\n",
    "                      \"Sistema\" : pd.Categorical([\"Procesador AMD A9-9420\",\n",
    "                                                  \"memoria RAM 8 GB\",\n",
    "                                                  \"Sistema operativo Windows 10 de 64 bits\"])}, index=[1,2,3])\n",
    "tabla"
   ]
  },
  {
   "cell_type": "markdown",
   "id": "b23e3247",
   "metadata": {},
   "source": [
    "Pregunta 1"
   ]
  },
  {
   "cell_type": "code",
   "execution_count": 16,
   "id": "e0e73b61",
   "metadata": {},
   "outputs": [
    {
     "name": "stdout",
     "output_type": "stream",
     "text": [
      "Requirement already satisfied: biopython in c:\\users\\user\\anaconda3\\lib\\site-packages (1.79)\n",
      "Requirement already satisfied: numpy in c:\\users\\user\\anaconda3\\lib\\site-packages (from biopython) (1.21.5)\n",
      "Requirement already satisfied: reportlab in c:\\users\\user\\anaconda3\\lib\\site-packages (3.6.11)\n",
      "Requirement already satisfied: pillow>=9.0.0 in c:\\users\\user\\anaconda3\\lib\\site-packages (from reportlab) (9.0.1)\n",
      "Requirement already satisfied: nglview in c:\\users\\user\\anaconda3\\lib\\site-packages (3.0.3)\n",
      "Requirement already satisfied: ipywidgets>=7 in c:\\users\\user\\anaconda3\\lib\\site-packages (from nglview) (7.6.5)\n",
      "Requirement already satisfied: jupyterlab-widgets in c:\\users\\user\\anaconda3\\lib\\site-packages (from nglview) (1.0.0)\n",
      "Requirement already satisfied: numpy in c:\\users\\user\\anaconda3\\lib\\site-packages (from nglview) (1.21.5)\n",
      "Requirement already satisfied: ipython>=4.0.0 in c:\\users\\user\\anaconda3\\lib\\site-packages (from ipywidgets>=7->nglview) (8.2.0)\n",
      "Requirement already satisfied: nbformat>=4.2.0 in c:\\users\\user\\anaconda3\\lib\\site-packages (from ipywidgets>=7->nglview) (5.3.0)\n",
      "Requirement already satisfied: widgetsnbextension~=3.5.0 in c:\\users\\user\\anaconda3\\lib\\site-packages (from ipywidgets>=7->nglview) (3.5.2)\n",
      "Requirement already satisfied: ipykernel>=4.5.1 in c:\\users\\user\\anaconda3\\lib\\site-packages (from ipywidgets>=7->nglview) (6.9.1)\n",
      "Requirement already satisfied: traitlets>=4.3.1 in c:\\users\\user\\anaconda3\\lib\\site-packages (from ipywidgets>=7->nglview) (5.1.1)\n",
      "Requirement already satisfied: ipython-genutils~=0.2.0 in c:\\users\\user\\anaconda3\\lib\\site-packages (from ipywidgets>=7->nglview) (0.2.0)\n",
      "Requirement already satisfied: nest-asyncio in c:\\users\\user\\anaconda3\\lib\\site-packages (from ipykernel>=4.5.1->ipywidgets>=7->nglview) (1.5.5)\n",
      "Requirement already satisfied: matplotlib-inline<0.2.0,>=0.1.0 in c:\\users\\user\\anaconda3\\lib\\site-packages (from ipykernel>=4.5.1->ipywidgets>=7->nglview) (0.1.2)\n",
      "Requirement already satisfied: tornado<7.0,>=4.2 in c:\\users\\user\\anaconda3\\lib\\site-packages (from ipykernel>=4.5.1->ipywidgets>=7->nglview) (6.1)\n",
      "Requirement already satisfied: debugpy<2.0,>=1.0.0 in c:\\users\\user\\anaconda3\\lib\\site-packages (from ipykernel>=4.5.1->ipywidgets>=7->nglview) (1.5.1)\n",
      "Requirement already satisfied: jupyter-client<8.0 in c:\\users\\user\\anaconda3\\lib\\site-packages (from ipykernel>=4.5.1->ipywidgets>=7->nglview) (6.1.12)\n",
      "Requirement already satisfied: colorama in c:\\users\\user\\anaconda3\\lib\\site-packages (from ipython>=4.0.0->ipywidgets>=7->nglview) (0.4.4)\n",
      "Requirement already satisfied: jedi>=0.16 in c:\\users\\user\\anaconda3\\lib\\site-packages (from ipython>=4.0.0->ipywidgets>=7->nglview) (0.18.1)\n",
      "Requirement already satisfied: stack-data in c:\\users\\user\\anaconda3\\lib\\site-packages (from ipython>=4.0.0->ipywidgets>=7->nglview) (0.2.0)\n",
      "Requirement already satisfied: backcall in c:\\users\\user\\anaconda3\\lib\\site-packages (from ipython>=4.0.0->ipywidgets>=7->nglview) (0.2.0)\n",
      "Requirement already satisfied: pygments>=2.4.0 in c:\\users\\user\\anaconda3\\lib\\site-packages (from ipython>=4.0.0->ipywidgets>=7->nglview) (2.11.2)\n",
      "Requirement already satisfied: pickleshare in c:\\users\\user\\anaconda3\\lib\\site-packages (from ipython>=4.0.0->ipywidgets>=7->nglview) (0.7.5)\n",
      "Requirement already satisfied: setuptools>=18.5 in c:\\users\\user\\anaconda3\\lib\\site-packages (from ipython>=4.0.0->ipywidgets>=7->nglview) (61.2.0)\n",
      "Requirement already satisfied: prompt-toolkit!=3.0.0,!=3.0.1,<3.1.0,>=2.0.0 in c:\\users\\user\\anaconda3\\lib\\site-packages (from ipython>=4.0.0->ipywidgets>=7->nglview) (3.0.20)\n",
      "Requirement already satisfied: decorator in c:\\users\\user\\anaconda3\\lib\\site-packages (from ipython>=4.0.0->ipywidgets>=7->nglview) (5.1.1)\n",
      "Requirement already satisfied: parso<0.9.0,>=0.8.0 in c:\\users\\user\\anaconda3\\lib\\site-packages (from jedi>=0.16->ipython>=4.0.0->ipywidgets>=7->nglview) (0.8.3)\n",
      "Requirement already satisfied: jupyter-core>=4.6.0 in c:\\users\\user\\anaconda3\\lib\\site-packages (from jupyter-client<8.0->ipykernel>=4.5.1->ipywidgets>=7->nglview) (4.9.2)\n",
      "Requirement already satisfied: pyzmq>=13 in c:\\users\\user\\anaconda3\\lib\\site-packages (from jupyter-client<8.0->ipykernel>=4.5.1->ipywidgets>=7->nglview) (22.3.0)\n",
      "Requirement already satisfied: python-dateutil>=2.1 in c:\\users\\user\\anaconda3\\lib\\site-packages (from jupyter-client<8.0->ipykernel>=4.5.1->ipywidgets>=7->nglview) (2.8.2)\n",
      "Requirement already satisfied: pywin32>=1.0 in c:\\users\\user\\anaconda3\\lib\\site-packages (from jupyter-core>=4.6.0->jupyter-client<8.0->ipykernel>=4.5.1->ipywidgets>=7->nglview) (302)\n",
      "Requirement already satisfied: jsonschema>=2.6 in c:\\users\\user\\anaconda3\\lib\\site-packages (from nbformat>=4.2.0->ipywidgets>=7->nglview) (4.4.0)\n",
      "Requirement already satisfied: fastjsonschema in c:\\users\\user\\anaconda3\\lib\\site-packages (from nbformat>=4.2.0->ipywidgets>=7->nglview) (2.15.1)\n",
      "Requirement already satisfied: attrs>=17.4.0 in c:\\users\\user\\anaconda3\\lib\\site-packages (from jsonschema>=2.6->nbformat>=4.2.0->ipywidgets>=7->nglview) (21.4.0)\n",
      "Requirement already satisfied: pyrsistent!=0.17.0,!=0.17.1,!=0.17.2,>=0.14.0 in c:\\users\\user\\anaconda3\\lib\\site-packages (from jsonschema>=2.6->nbformat>=4.2.0->ipywidgets>=7->nglview) (0.18.0)\n",
      "Requirement already satisfied: wcwidth in c:\\users\\user\\anaconda3\\lib\\site-packages (from prompt-toolkit!=3.0.0,!=3.0.1,<3.1.0,>=2.0.0->ipython>=4.0.0->ipywidgets>=7->nglview) (0.2.5)\n",
      "Requirement already satisfied: six>=1.5 in c:\\users\\user\\anaconda3\\lib\\site-packages (from python-dateutil>=2.1->jupyter-client<8.0->ipykernel>=4.5.1->ipywidgets>=7->nglview) (1.16.0)\n",
      "Requirement already satisfied: notebook>=4.4.1 in c:\\users\\user\\anaconda3\\lib\\site-packages (from widgetsnbextension~=3.5.0->ipywidgets>=7->nglview) (6.4.8)\n",
      "Requirement already satisfied: nbconvert in c:\\users\\user\\anaconda3\\lib\\site-packages (from notebook>=4.4.1->widgetsnbextension~=3.5.0->ipywidgets>=7->nglview) (6.4.4)\n",
      "Requirement already satisfied: prometheus-client in c:\\users\\user\\anaconda3\\lib\\site-packages (from notebook>=4.4.1->widgetsnbextension~=3.5.0->ipywidgets>=7->nglview) (0.13.1)\n",
      "Requirement already satisfied: argon2-cffi in c:\\users\\user\\anaconda3\\lib\\site-packages (from notebook>=4.4.1->widgetsnbextension~=3.5.0->ipywidgets>=7->nglview) (21.3.0)\n",
      "Requirement already satisfied: terminado>=0.8.3 in c:\\users\\user\\anaconda3\\lib\\site-packages (from notebook>=4.4.1->widgetsnbextension~=3.5.0->ipywidgets>=7->nglview) (0.13.1)\n",
      "Requirement already satisfied: jinja2 in c:\\users\\user\\anaconda3\\lib\\site-packages (from notebook>=4.4.1->widgetsnbextension~=3.5.0->ipywidgets>=7->nglview) (2.11.3)\n",
      "Requirement already satisfied: Send2Trash>=1.8.0 in c:\\users\\user\\anaconda3\\lib\\site-packages (from notebook>=4.4.1->widgetsnbextension~=3.5.0->ipywidgets>=7->nglview) (1.8.0)\n",
      "Requirement already satisfied: pywinpty>=1.1.0 in c:\\users\\user\\anaconda3\\lib\\site-packages (from terminado>=0.8.3->notebook>=4.4.1->widgetsnbextension~=3.5.0->ipywidgets>=7->nglview) (2.0.2)\n",
      "Requirement already satisfied: argon2-cffi-bindings in c:\\users\\user\\anaconda3\\lib\\site-packages (from argon2-cffi->notebook>=4.4.1->widgetsnbextension~=3.5.0->ipywidgets>=7->nglview) (21.2.0)\n",
      "Requirement already satisfied: cffi>=1.0.1 in c:\\users\\user\\anaconda3\\lib\\site-packages (from argon2-cffi-bindings->argon2-cffi->notebook>=4.4.1->widgetsnbextension~=3.5.0->ipywidgets>=7->nglview) (1.15.0)\n",
      "Requirement already satisfied: pycparser in c:\\users\\user\\anaconda3\\lib\\site-packages (from cffi>=1.0.1->argon2-cffi-bindings->argon2-cffi->notebook>=4.4.1->widgetsnbextension~=3.5.0->ipywidgets>=7->nglview) (2.21)\n",
      "Requirement already satisfied: MarkupSafe>=0.23 in c:\\users\\user\\anaconda3\\lib\\site-packages (from jinja2->notebook>=4.4.1->widgetsnbextension~=3.5.0->ipywidgets>=7->nglview) (2.0.1)\n",
      "Requirement already satisfied: nbclient<0.6.0,>=0.5.0 in c:\\users\\user\\anaconda3\\lib\\site-packages (from nbconvert->notebook>=4.4.1->widgetsnbextension~=3.5.0->ipywidgets>=7->nglview) (0.5.13)\n",
      "Requirement already satisfied: bleach in c:\\users\\user\\anaconda3\\lib\\site-packages (from nbconvert->notebook>=4.4.1->widgetsnbextension~=3.5.0->ipywidgets>=7->nglview) (4.1.0)\n",
      "Requirement already satisfied: defusedxml in c:\\users\\user\\anaconda3\\lib\\site-packages (from nbconvert->notebook>=4.4.1->widgetsnbextension~=3.5.0->ipywidgets>=7->nglview) (0.7.1)\n",
      "Requirement already satisfied: testpath in c:\\users\\user\\anaconda3\\lib\\site-packages (from nbconvert->notebook>=4.4.1->widgetsnbextension~=3.5.0->ipywidgets>=7->nglview) (0.5.0)\n",
      "Requirement already satisfied: jupyterlab-pygments in c:\\users\\user\\anaconda3\\lib\\site-packages (from nbconvert->notebook>=4.4.1->widgetsnbextension~=3.5.0->ipywidgets>=7->nglview) (0.1.2)\n",
      "Requirement already satisfied: beautifulsoup4 in c:\\users\\user\\anaconda3\\lib\\site-packages (from nbconvert->notebook>=4.4.1->widgetsnbextension~=3.5.0->ipywidgets>=7->nglview) (4.11.1)\n",
      "Requirement already satisfied: pandocfilters>=1.4.1 in c:\\users\\user\\anaconda3\\lib\\site-packages (from nbconvert->notebook>=4.4.1->widgetsnbextension~=3.5.0->ipywidgets>=7->nglview) (1.5.0)\n",
      "Requirement already satisfied: entrypoints>=0.2.2 in c:\\users\\user\\anaconda3\\lib\\site-packages (from nbconvert->notebook>=4.4.1->widgetsnbextension~=3.5.0->ipywidgets>=7->nglview) (0.4)\n",
      "Requirement already satisfied: mistune<2,>=0.8.1 in c:\\users\\user\\anaconda3\\lib\\site-packages (from nbconvert->notebook>=4.4.1->widgetsnbextension~=3.5.0->ipywidgets>=7->nglview) (0.8.4)\n",
      "Requirement already satisfied: soupsieve>1.2 in c:\\users\\user\\anaconda3\\lib\\site-packages (from beautifulsoup4->nbconvert->notebook>=4.4.1->widgetsnbextension~=3.5.0->ipywidgets>=7->nglview) (2.3.1)\n",
      "Requirement already satisfied: packaging in c:\\users\\user\\anaconda3\\lib\\site-packages (from bleach->nbconvert->notebook>=4.4.1->widgetsnbextension~=3.5.0->ipywidgets>=7->nglview) (21.3)\n",
      "Requirement already satisfied: webencodings in c:\\users\\user\\anaconda3\\lib\\site-packages (from bleach->nbconvert->notebook>=4.4.1->widgetsnbextension~=3.5.0->ipywidgets>=7->nglview) (0.5.1)\n",
      "Requirement already satisfied: pyparsing!=3.0.5,>=2.0.2 in c:\\users\\user\\anaconda3\\lib\\site-packages (from packaging->bleach->nbconvert->notebook>=4.4.1->widgetsnbextension~=3.5.0->ipywidgets>=7->nglview) (3.0.4)\n",
      "Requirement already satisfied: executing in c:\\users\\user\\anaconda3\\lib\\site-packages (from stack-data->ipython>=4.0.0->ipywidgets>=7->nglview) (0.8.3)\n",
      "Requirement already satisfied: asttokens in c:\\users\\user\\anaconda3\\lib\\site-packages (from stack-data->ipython>=4.0.0->ipywidgets>=7->nglview) (2.0.5)\n",
      "Requirement already satisfied: pure-eval in c:\\users\\user\\anaconda3\\lib\\site-packages (from stack-data->ipython>=4.0.0->ipywidgets>=7->nglview) (0.2.2)\n"
     ]
    }
   ],
   "source": [
    "!pip install biopython\n",
    "!pip install reportlab\n",
    "!pip install nglview"
   ]
  },
  {
   "cell_type": "code",
   "execution_count": 15,
   "id": "fa092ddf",
   "metadata": {},
   "outputs": [
    {
     "ename": "SyntaxError",
     "evalue": "invalid syntax (2782920131.py, line 1)",
     "output_type": "error",
     "traceback": [
      "\u001b[1;36m  Input \u001b[1;32mIn [15]\u001b[1;36m\u001b[0m\n\u001b[1;33m    from miningscience import dowload_pubmed._cancer_\u001b[0m\n\u001b[1;37m                                            ^\u001b[0m\n\u001b[1;31mSyntaxError\u001b[0m\u001b[1;31m:\u001b[0m invalid syntax\n"
     ]
    }
   ],
   "source": [
    "from miningscience import dowload_pubmed.cancer"
   ]
  },
  {
   "cell_type": "code",
   "execution_count": 38,
   "id": "c007446b",
   "metadata": {},
   "outputs": [],
   "source": []
  },
  {
   "cell_type": "code",
   "execution_count": 39,
   "id": "d6d2a751",
   "metadata": {},
   "outputs": [
    {
     "ename": "ImportError",
     "evalue": "cannot import name 'dowload_pubmed' from 'modulo0' (C:\\Users\\User\\Documents\\sexto_semestre\\Bioinformatica\\GitHub\\gbi6g01_2022\\modulo0.py)",
     "output_type": "error",
     "traceback": [
      "\u001b[1;31m---------------------------------------------------------------------------\u001b[0m",
      "\u001b[1;31mImportError\u001b[0m                               Traceback (most recent call last)",
      "Input \u001b[1;32mIn [39]\u001b[0m, in \u001b[0;36m<cell line: 1>\u001b[1;34m()\u001b[0m\n\u001b[1;32m----> 1\u001b[0m \u001b[38;5;28;01mfrom\u001b[39;00m \u001b[38;5;21;01mmodulo0\u001b[39;00m \u001b[38;5;28;01mimport\u001b[39;00m dowload_pubmed\n",
      "\u001b[1;31mImportError\u001b[0m: cannot import name 'dowload_pubmed' from 'modulo0' (C:\\Users\\User\\Documents\\sexto_semestre\\Bioinformatica\\GitHub\\gbi6g01_2022\\modulo0.py)"
     ]
    }
   ],
   "source": [
    "from modulo0 import dowload_pubmed"
   ]
  },
  {
   "cell_type": "code",
   "execution_count": null,
   "id": "01700133",
   "metadata": {},
   "outputs": [],
   "source": []
  },
  {
   "cell_type": "code",
   "execution_count": null,
   "id": "09400989",
   "metadata": {},
   "outputs": [],
   "source": []
  },
  {
   "cell_type": "code",
   "execution_count": null,
   "id": "7b6d94ac",
   "metadata": {},
   "outputs": [],
   "source": []
  },
  {
   "cell_type": "code",
   "execution_count": null,
   "id": "48f06d7f",
   "metadata": {},
   "outputs": [],
   "source": []
  },
  {
   "cell_type": "code",
   "execution_count": null,
   "id": "5fb8cd9b",
   "metadata": {},
   "outputs": [],
   "source": []
  },
  {
   "cell_type": "code",
   "execution_count": null,
   "id": "5d71de3c",
   "metadata": {},
   "outputs": [],
   "source": []
  },
  {
   "cell_type": "code",
   "execution_count": null,
   "id": "4384c174",
   "metadata": {},
   "outputs": [],
   "source": []
  },
  {
   "cell_type": "code",
   "execution_count": 33,
   "id": "6b81f464",
   "metadata": {},
   "outputs": [],
   "source": [
    "import re\n",
    "import csv"
   ]
  },
  {
   "cell_type": "code",
   "execution_count": 34,
   "id": "9b0f90f4",
   "metadata": {
    "scrolled": false
   },
   "outputs": [],
   "source": [
    "with open('/Users/User/Documents/sexto_semestre/Bioinformatica/GitHub/gbi6g01_2022/pubmed_result.txt') as f:\n",
    "    my_text = f.read()"
   ]
  },
  {
   "cell_type": "code",
   "execution_count": 35,
   "id": "b6da451f",
   "metadata": {},
   "outputs": [
    {
     "data": {
      "text/plain": [
       "0"
      ]
     },
     "execution_count": 35,
     "metadata": {},
     "output_type": "execute_result"
    }
   ],
   "source": [
    "len(my_text)"
   ]
  },
  {
   "cell_type": "code",
   "execution_count": null,
   "id": "c63919aa",
   "metadata": {},
   "outputs": [],
   "source": []
  },
  {
   "cell_type": "code",
   "execution_count": null,
   "id": "b1217fce",
   "metadata": {},
   "outputs": [],
   "source": []
  },
  {
   "cell_type": "code",
   "execution_count": null,
   "id": "eeef6946",
   "metadata": {},
   "outputs": [],
   "source": []
  }
 ],
 "metadata": {
  "kernelspec": {
   "display_name": "Python 3 (ipykernel)",
   "language": "python",
   "name": "python3"
  },
  "language_info": {
   "codemirror_mode": {
    "name": "ipython",
    "version": 3
   },
   "file_extension": ".py",
   "mimetype": "text/x-python",
   "name": "python",
   "nbconvert_exporter": "python",
   "pygments_lexer": "ipython3",
   "version": "3.9.12"
  }
 },
 "nbformat": 4,
 "nbformat_minor": 5
}
