{
 "cells": [
  {
   "cell_type": "markdown",
   "id": "82539409",
   "metadata": {},
   "source": [
    "<img src=\"data:image/png;base64,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\" width=300 height=240 />\n",
    "\n",
    "# EXAMEN PARCIAL PYTHON\n",
    "    \n",
    "## GBI6-2021II: BIOINFORMÁTICA\n",
    "\n",
    "**Benalcazar Mera, Andres Mateo**\n",
    "\n",
    "**03-08-2022**"
   ]
  },
  {
   "cell_type": "code",
   "execution_count": 2,
   "id": "3c4f9bdb",
   "metadata": {},
   "outputs": [],
   "source": [
    "import pandas as pd"
   ]
  },
  {
   "cell_type": "code",
   "execution_count": 3,
   "id": "8ee9b7ec",
   "metadata": {},
   "outputs": [
    {
     "data": {
      "text/html": [
       "<div>\n",
       "<style scoped>\n",
       "    .dataframe tbody tr th:only-of-type {\n",
       "        vertical-align: middle;\n",
       "    }\n",
       "\n",
       "    .dataframe tbody tr th {\n",
       "        vertical-align: top;\n",
       "    }\n",
       "\n",
       "    .dataframe thead th {\n",
       "        text-align: right;\n",
       "    }\n",
       "</style>\n",
       "<table border=\"1\" class=\"dataframe\">\n",
       "  <thead>\n",
       "    <tr style=\"text-align: right;\">\n",
       "      <th></th>\n",
       "      <th>Modelo</th>\n",
       "      <th>Sistema</th>\n",
       "    </tr>\n",
       "  </thead>\n",
       "  <tbody>\n",
       "    <tr>\n",
       "      <th>1</th>\n",
       "      <td>DESKTOP-U73I4LB</td>\n",
       "      <td>Procesador AMD A9-9420</td>\n",
       "    </tr>\n",
       "    <tr>\n",
       "      <th>2</th>\n",
       "      <td>Color dorado</td>\n",
       "      <td>memoria RAM 8 GB</td>\n",
       "    </tr>\n",
       "    <tr>\n",
       "      <th>3</th>\n",
       "      <td>Pantalla ful HD no tactil</td>\n",
       "      <td>Sistema operativo Windows 10 de 64 bits</td>\n",
       "    </tr>\n",
       "  </tbody>\n",
       "</table>\n",
       "</div>"
      ],
      "text/plain": [
       "                      Modelo                                  Sistema\n",
       "1            DESKTOP-U73I4LB                   Procesador AMD A9-9420\n",
       "2               Color dorado                         memoria RAM 8 GB\n",
       "3  Pantalla ful HD no tactil  Sistema operativo Windows 10 de 64 bits"
      ]
     },
     "execution_count": 3,
     "metadata": {},
     "output_type": "execute_result"
    }
   ],
   "source": [
    "tabla = pd.DataFrame({\"Modelo\" : pd.Categorical([\"DESKTOP-U73I4LB\",\n",
    "                                                 \"Color dorado\",\n",
    "                                                 \"Pantalla ful HD no tactil\"]),\n",
    "                      \"Sistema\" : pd.Categorical([\"Procesador AMD A9-9420\",\n",
    "                                                  \"memoria RAM 8 GB\",\n",
    "                                                  \"Sistema operativo Windows 10 de 64 bits\"])}, index=[1,2,3])\n",
    "tabla"
   ]
  },
  {
   "cell_type": "markdown",
   "id": "b23e3247",
   "metadata": {},
   "source": [
    "# Ejercicio 1 [2 puntos]\n",
    "## Cree el archivo miningscience.py con las siguientes dos funciones:\n",
    "\n",
    "i. ```download_pubmed```: para descargar la data de PubMed utilizando el **ENTREZ** de Biopython. El parámetro de entrada para la función es el keyword.\n",
    "\n",
    "ii. ```science_plots```: la función debe\n",
    "\n",
    "utilizar como argumento de entrada la data descargada por download_pubmed\n",
    "ordenar los conteos de autores por país en orden ascedente y\n",
    "seleccionar los cinco más abundantes. Con esta selección debe graficar un pie_plot. Como guía para el conteo por países puede usar el ejemplo de MapOfScience.\n",
    "iii Cree un docstring para cada función.\n",
    "\n",
    "Luego de crear las funciones, cargue el módulo miningscience como msc e imprima docstring de cada función."
   ]
  },
  {
   "cell_type": "code",
   "execution_count": 91,
   "id": "e0e73b61",
   "metadata": {},
   "outputs": [
    {
     "name": "stdout",
     "output_type": "stream",
     "text": [
      "El nombre de la la funcion es: download_pubmed\n",
      "Documentacion de la funcion : \"La funcion download_pubmed se encarga de rescatar la id de los documentos que esten relacionados con la keyword que se envio en la base de datos de pubmed \n",
      "__________________________________\n",
      "El nombre de la la funcion es: science_plots\n",
      "Documentacion de la funcion : \"La función de science_plots se encarga de filtrar la data dependiendo de la variable (tipo) que se envió pudiendo ser esta DP AU o AD , los datos  PMID para la extracción de documentos se obtienen gracias a la función download_pubmed que busca los documentos exactos basados en su ID   \n"
     ]
    }
   ],
   "source": [
    "import Bio\n",
    "from Bio.Seq import Seq\n",
    "from Bio import Entrez\n",
    "import re\n",
    "\n",
    "#obtencion de datos (documentos relacionados con la palabra ) 10**5\n",
    "def download_pubmed(keyword):\n",
    "    \"\"\"\"La funcion download_pubmed se encarga de rescatar la id de los documentos que esten relacionados con la keyword que se envio en la base de datos de pubmed \"\"\"\n",
    "    Entrez.email = \"andres.benalcazar@est.ikiam.edu.ec\"\n",
    "handle = Entrez.esearch(db=\"pubmed\", \n",
    "                        term=\"keyword]\",\n",
    "                        usehistory=\"y\")\n",
    "record = Entrez.read(handle)\n",
    "id_list = record[\"IdList\"]\n",
    "record[\"Count\"]\n",
    "results1 = record\n",
    "\n",
    "\n",
    "\n",
    "def science_plots(tipo):\n",
    "    \"\"\"\"La función de science_plots se encarga de filtrar la data dependiendo de la variable (tipo) que se envió pudiendo ser esta DP AU o AD , los datos  PMID para la extracción de documentos se obtienen gracias a la función download_pubmed que busca los documentos exactos basados en su ID   \"\"\"\n",
    "    #--------------------------Uso del metodo download_pubmed---------------------------------------\n",
    "    results = download_pubmed('Bacullus cereus') #Se usa el metodo download_pubmed para obtener los documentos con una keyword  \n",
    "    #-----------------------------------------------------------------------------------------------\n",
    "    \n",
    "    id_list = results['IdList']                                                  #separamos ids    \n",
    "    ids = ','.join(id_list)    \n",
    "    Entrez.email = 'andres.benalcazar@est.ikiam.edu.ec'\n",
    "    handle = Entrez.efetch(db='pubmed',rettype='medline',retmode='text',id=ids)  #rescatamos ducumentos por id\n",
    "    all_data = handle.read()                                                     #se lee la data\n",
    "    \n",
    "    if(tipo == \"DP\"):#PMID y DP_year \n",
    "        zipcodes = re.findall(r'PMID-.(.+)', all_data)\n",
    "        zipcodes1 = re.findall(r'DP  -.(.+)', all_data)\n",
    "        all_ = list(zip(zipcodes,zipcodes1))\n",
    "        nom_colum = ['PMID','DP_year']\n",
    "    else:\n",
    "            \n",
    "        if(tipo == \"AD\"):#country y el num_auth\n",
    "            zipcodes = re.findall(r'PL  -.(.+)|(AU)  -|', all_data)\n",
    "            nom_colum = ['country','num_auth']\n",
    "        mira = list()\n",
    "        for x in zipcodes:\n",
    "            if(x[0]!=''):\n",
    "                mira.append((x[0],''))\n",
    "            elif(x[1]!=''):\n",
    "                mira.append(('',x[1]))\n",
    "        zipcodes= mira       \n",
    "        lista_1 = list()\n",
    "        lista_2 = list()\n",
    "        va_c = 0\n",
    "        for y in zipcodes:\n",
    "            if(y[0] !=''):\n",
    "                x_0 = y[0]\n",
    "                lista_1.append(y[0])\n",
    "                if(va_c != 0):\n",
    "                    lista_2.append(va_c)\n",
    "                    va_c = 0\n",
    "            else:\n",
    "                va_c = va_c+1            \n",
    "        all_ = list(zip(lista_1,lista_2))\n",
    "        \n",
    "    results = pd.DataFrame(all_,columns = nom_colum)             \n",
    "\n",
    "#seccion de ejecicion de codigo y envio de variables\n",
    "#id_list = results['IdList']          #separamos ids \n",
    "if __name__ == '__main__':\n",
    " #--------------------------Se ingresa la varaible tipo para iniciar---------------------------------------\n",
    "    #resultado_final = mining_pubs(\"AU\")  #Enviamos el tipo para el procesamiento ER (DP AU AD)  \n",
    "#---------------------------------------------------------------------------------------------------------\n",
    "    print(\"El nombre de la la funcion es:\",download_pubmed.__name__ )\n",
    "    print(\"Documentacion de la funcion :\",download_pubmed.__doc__)\n",
    "    print(\"__________________________________\")\n",
    "    print(\"El nombre de la la funcion es:\",science_plots.__name__ )\n",
    "    print(\"Documentacion de la funcion :\",science_plots.__doc__)"
   ]
  },
  {
   "cell_type": "markdown",
   "id": "140565d3",
   "metadata": {},
   "source": [
    "# Ejercicio 2 [2 puntos]\n",
    "## Utilice dos veces la función ```download_pubmed``` para:\n",
    "\n",
    "Descargar la data, utilizando los ```keyword``` de su preferencia.\n",
    "Guardar el archivo descargado en la carpeta ```data```.\n",
    "Para cada corrida, imprima lo siguiente:\n",
    "\n",
    "'El número artículos para KEYWORD es: XX' # Que se cargue con inserción de texto o valor que correspondea KEYWORD y XX"
   ]
  },
  {
   "cell_type": "code",
   "execution_count": 89,
   "id": "75411277",
   "metadata": {},
   "outputs": [
    {
     "ename": "TypeError",
     "evalue": "object of type 'NoneType' has no len()",
     "output_type": "error",
     "traceback": [
      "\u001b[1;31m---------------------------------------------------------------------------\u001b[0m",
      "\u001b[1;31mTypeError\u001b[0m                                 Traceback (most recent call last)",
      "Input \u001b[1;32mIn [89]\u001b[0m, in \u001b[0;36m<cell line: 4>\u001b[1;34m()\u001b[0m\n\u001b[0;32m      2\u001b[0m pythonpt1 \u001b[38;5;241m=\u001b[39m download_pubmed (\u001b[38;5;124m\"\u001b[39m\u001b[38;5;124mBacillus cereus\u001b[39m\u001b[38;5;124m\"\u001b[39m)\n\u001b[0;32m      3\u001b[0m f1 \u001b[38;5;241m=\u001b[39m (download_pubmed (\u001b[38;5;124m\"\u001b[39m\u001b[38;5;124mBacillus cereus\u001b[39m\u001b[38;5;124m\"\u001b[39m))\n\u001b[1;32m----> 4\u001b[0m \u001b[38;5;28mprint\u001b[39m (\u001b[38;5;124m\"\u001b[39m\u001b[38;5;124mEl número articulos para Bacillus cereus es: \u001b[39m\u001b[38;5;124m\"\u001b[39m, \u001b[38;5;28;43mlen\u001b[39;49m\u001b[43m(\u001b[49m\u001b[43mpythonpt1\u001b[49m\u001b[43m)\u001b[49m)\n\u001b[0;32m      5\u001b[0m \u001b[38;5;28mprint\u001b[39m (\u001b[38;5;124m\"\u001b[39m\u001b[38;5;124mEl número articulos para Bacillus cereus es: \u001b[39m\u001b[38;5;124m\"\u001b[39m, \u001b[38;5;28mlen\u001b[39m(f1))\n",
      "\u001b[1;31mTypeError\u001b[0m: object of type 'NoneType' has no len()"
     ]
    }
   ],
   "source": [
    "# Escriba aquí su código para el ejercicio 2\n",
    "pythonpt1 = download_pubmed (\"Bacillus cereus\")\n",
    "f1 = (download_pubmed (\"Bacillus cereus\"))\n",
    "print (\"El número articulos para Bacillus cereus es: \", len(pythonpt1))\n",
    "print (\"El número articulos para Bacillus cereus es: \", len(f1))\n",
    "\n",
    "#print (download_pubmed (\"Bacillus cereus\"))"
   ]
  },
  {
   "cell_type": "markdown",
   "id": "6ce8043b",
   "metadata": {},
   "source": [
    "# Ejercicio 3 [1.5 puntos]\n",
    "## Utilice dos veces la función science_plots para:\n",
    "\n",
    "Visualizar un pie_plot para cada data descargada en el ejercicio 2.\n",
    "\n",
    "Guardar los pie_plot en la carpeta **img**"
   ]
  },
  {
   "cell_type": "code",
   "execution_count": 90,
   "id": "d6d2a751",
   "metadata": {},
   "outputs": [
    {
     "ename": "TypeError",
     "evalue": "'NoneType' object is not subscriptable",
     "output_type": "error",
     "traceback": [
      "\u001b[1;31m---------------------------------------------------------------------------\u001b[0m",
      "\u001b[1;31mTypeError\u001b[0m                                 Traceback (most recent call last)",
      "Input \u001b[1;32mIn [90]\u001b[0m, in \u001b[0;36m<cell line: 1>\u001b[1;34m()\u001b[0m\n\u001b[1;32m----> 1\u001b[0m \u001b[43mscience_plots\u001b[49m\u001b[43m(\u001b[49m\u001b[38;5;124;43m\"\u001b[39;49m\u001b[38;5;124;43mBacillus cereus\u001b[39;49m\u001b[38;5;124;43m\"\u001b[39;49m\u001b[43m)\u001b[49m\n\u001b[0;32m      3\u001b[0m science_plots(\u001b[38;5;124m\"\u001b[39m\u001b[38;5;124mBacillus\u001b[39m\u001b[38;5;124m\"\u001b[39m)\n",
      "Input \u001b[1;32mIn [80]\u001b[0m, in \u001b[0;36mscience_plots\u001b[1;34m(tipo)\u001b[0m\n\u001b[0;32m     20\u001b[0m results \u001b[38;5;241m=\u001b[39m download_pubmed(\u001b[38;5;124m'\u001b[39m\u001b[38;5;124mEcuador genomics\u001b[39m\u001b[38;5;124m'\u001b[39m) \u001b[38;5;66;03m#Se usa el metodo download_pubmed para obtener los documentos con una keyword  \u001b[39;00m\n\u001b[0;32m     21\u001b[0m \u001b[38;5;66;03m#-----------------------------------------------------------------------------------------------\u001b[39;00m\n\u001b[1;32m---> 23\u001b[0m id_list \u001b[38;5;241m=\u001b[39m \u001b[43mresults\u001b[49m\u001b[43m[\u001b[49m\u001b[38;5;124;43m'\u001b[39;49m\u001b[38;5;124;43mIdList\u001b[39;49m\u001b[38;5;124;43m'\u001b[39;49m\u001b[43m]\u001b[49m                                                  \u001b[38;5;66;03m#separamos ids    \u001b[39;00m\n\u001b[0;32m     24\u001b[0m ids \u001b[38;5;241m=\u001b[39m \u001b[38;5;124m'\u001b[39m\u001b[38;5;124m,\u001b[39m\u001b[38;5;124m'\u001b[39m\u001b[38;5;241m.\u001b[39mjoin(id_list)    \n\u001b[0;32m     25\u001b[0m Entrez\u001b[38;5;241m.\u001b[39memail \u001b[38;5;241m=\u001b[39m \u001b[38;5;124m'\u001b[39m\u001b[38;5;124myour.email@example.com\u001b[39m\u001b[38;5;124m'\u001b[39m\n",
      "\u001b[1;31mTypeError\u001b[0m: 'NoneType' object is not subscriptable"
     ]
    }
   ],
   "source": [
    "science_plots(\"Bacillus cereus\")\n",
    "\n",
    "science_plots(\"Bacillus\")"
   ]
  },
  {
   "cell_type": "markdown",
   "id": "84f45859",
   "metadata": {},
   "source": [
    "## Ejercicio 4 [1 punto]\n",
    "\n",
    "**Interprete** los resultados de las figuras del **ejercicio 3**"
   ]
  },
  {
   "cell_type": "code",
   "execution_count": null,
   "id": "3457b13c",
   "metadata": {},
   "outputs": [],
   "source": []
  },
  {
   "cell_type": "markdown",
   "id": "26b6ea96",
   "metadata": {},
   "source": [
    "## Ejercicio 5 [2 puntos]\n",
    "\n",
    "Para algún **gen de las enzimas que intervienen en la ruta metabolica de la gluconeogenesis** ([Lista de genes por tipología](https://www.genome.jp/pathway/map00010+C00068)), realice lo siguiente: \n",
    "\n",
    "1. Una búsqueda en la página del [NCBI nucleotide](https://www.ncbi.nlm.nih.gov/nucleotide/).\n",
    "\n",
    "2. Descargue el ```Accession List``` de su búsqueda y guarde en la carpeta ```data```.\n",
    "\n",
    "3. Cargue el ```Accession List``` en este notebook y haga una descarga de las secuencias de los **quince primeros** IDs de la accesión. \n",
    "\n",
    "4. Arme un árbol filogenético para los resultados del paso 3.\n",
    "\n",
    "5. Guarde su arbol filogénetico en la carpeta ```img```\n",
    "\n",
    "5. Interprete el árbol del paso 4. "
   ]
  },
  {
   "cell_type": "code",
   "execution_count": 94,
   "id": "7b6d94ac",
   "metadata": {},
   "outputs": [
    {
     "ename": "FileNotFoundError",
     "evalue": "[Errno 2] No such file or directory: 'sequence.seq'",
     "output_type": "error",
     "traceback": [
      "\u001b[1;31m---------------------------------------------------------------------------\u001b[0m",
      "\u001b[1;31mFileNotFoundError\u001b[0m                         Traceback (most recent call last)",
      "Input \u001b[1;32mIn [94]\u001b[0m, in \u001b[0;36m<cell line: 12>\u001b[1;34m()\u001b[0m\n\u001b[0;32m      9\u001b[0m \u001b[38;5;28;01mimport\u001b[39;00m \u001b[38;5;21;01mos\u001b[39;00m \n\u001b[0;32m     10\u001b[0m \u001b[38;5;28;01mfrom\u001b[39;00m \u001b[38;5;21;01mBio\u001b[39;00m\u001b[38;5;21;01m.\u001b[39;00m\u001b[38;5;21;01mAlign\u001b[39;00m\u001b[38;5;21;01m.\u001b[39;00m\u001b[38;5;21;01mApplications\u001b[39;00m \u001b[38;5;28;01mimport\u001b[39;00m ClustalwCommandline\n\u001b[1;32m---> 12\u001b[0m \u001b[38;5;28;01mwith\u001b[39;00m \u001b[38;5;28;43mopen\u001b[39;49m\u001b[43m(\u001b[49m\u001b[38;5;124;43m\"\u001b[39;49m\u001b[38;5;124;43msequence.seq\u001b[39;49m\u001b[38;5;124;43m\"\u001b[39;49m\u001b[43m)\u001b[49m \u001b[38;5;28;01mas\u001b[39;00m f:\n\u001b[0;32m     13\u001b[0m     data \u001b[38;5;241m=\u001b[39m f\u001b[38;5;241m.\u001b[39mreadlines()[\u001b[38;5;241m0\u001b[39m:\u001b[38;5;241m15\u001b[39m]\n\u001b[0;32m     14\u001b[0m out_sequence \u001b[38;5;241m=\u001b[39m \u001b[38;5;28mopen\u001b[39m(\u001b[38;5;124m\"\u001b[39m\u001b[38;5;124msecuencias.fasta\u001b[39m\u001b[38;5;124m\"\u001b[39m, \u001b[38;5;124m\"\u001b[39m\u001b[38;5;124mw\u001b[39m\u001b[38;5;124m\"\u001b[39m)\n",
      "\u001b[1;31mFileNotFoundError\u001b[0m: [Errno 2] No such file or directory: 'sequence.seq'"
     ]
    }
   ],
   "source": [
    "from Bio import Phylo\n",
    "from Bio import SeqIO\n",
    "from Bio import AlignIO\n",
    "from Bio.Phylo.TreeConstruction import DistanceCalculator\n",
    "from Bio.Phylo.TreeConstruction import DistanceTreeConstructor\n",
    "# cargar biopython o sus módulo, funciones\n",
    "from Bio import Entrez\n",
    "import re\n",
    "import os \n",
    "from Bio.Align.Applications import ClustalwCommandline\n",
    "\n",
    "with open(\"sequence.seq\") as f:\n",
    "    data = f.readlines()[0:15]\n",
    "out_sequence = open(\"secuencias.fasta\", \"w\")\n",
    "for linea in data:  \n",
    "    Entrez.email=\"andres.benalcazar@est.ikiam.edu.ec\"\n",
    "    handle=Entrez.efetch(db=\"nucleotide\" ,id=linea ,rettype=\"fasta\", retmode=\"text\")\n",
    "    data=(handle.read())\n",
    "    out_sequence.write(data)\n",
    "out_sequence.close()"
   ]
  },
  {
   "cell_type": "code",
   "execution_count": 95,
   "id": "48f06d7f",
   "metadata": {},
   "outputs": [
    {
     "ename": "AssertionError",
     "evalue": "Clustal_W executable is missing or not found",
     "output_type": "error",
     "traceback": [
      "\u001b[1;31m---------------------------------------------------------------------------\u001b[0m",
      "\u001b[1;31mAssertionError\u001b[0m                            Traceback (most recent call last)",
      "Input \u001b[1;32mIn [95]\u001b[0m, in \u001b[0;36m<cell line: 3>\u001b[1;34m()\u001b[0m\n\u001b[0;32m      1\u001b[0m clustalw_exe \u001b[38;5;241m=\u001b[39m \u001b[38;5;124mr\u001b[39m\u001b[38;5;124m\"\u001b[39m\u001b[38;5;124mC:\u001b[39m\u001b[38;5;124m\\\u001b[39m\u001b[38;5;124mProgram Files (x86)\u001b[39m\u001b[38;5;124m\\\u001b[39m\u001b[38;5;124mClustalW2\u001b[39m\u001b[38;5;124m\\\u001b[39m\u001b[38;5;124mclustalw2.exe\u001b[39m\u001b[38;5;124m\"\u001b[39m\n\u001b[0;32m      2\u001b[0m clustalw_cline \u001b[38;5;241m=\u001b[39m ClustalwCommandline(clustalw_exe, infile \u001b[38;5;241m=\u001b[39m \u001b[38;5;124m\"\u001b[39m\u001b[38;5;124msecuencias.fasta\u001b[39m\u001b[38;5;124m\"\u001b[39m)\n\u001b[1;32m----> 3\u001b[0m \u001b[38;5;28;01massert\u001b[39;00m os\u001b[38;5;241m.\u001b[39mpath\u001b[38;5;241m.\u001b[39misfile(clustalw_exe), \u001b[38;5;124m\"\u001b[39m\u001b[38;5;124mClustal_W executable is missing or not found\u001b[39m\u001b[38;5;124m\"\u001b[39m\n\u001b[0;32m      4\u001b[0m stdout, stderr \u001b[38;5;241m=\u001b[39m clustalw_cline()\n\u001b[0;32m      5\u001b[0m \u001b[38;5;28mprint\u001b[39m(clustalw_cline)\n",
      "\u001b[1;31mAssertionError\u001b[0m: Clustal_W executable is missing or not found"
     ]
    }
   ],
   "source": [
    "clustalw_exe = r\"C:\\Program Files (x86)\\ClustalW2\\clustalw2.exe\"\n",
    "clustalw_cline = ClustalwCommandline(clustalw_exe, infile = \"secuencias.fasta\")\n",
    "assert os.path.isfile(clustalw_exe), \"Clustal_W executable is missing or not found\"\n",
    "stdout, stderr = clustalw_cline()\n",
    "print(clustalw_cline)\n",
    "ClustalAlign = AlignIO.read(\"secuencias.aln\", \"clustal\")\n",
    "print(ClustalAlign)"
   ]
  },
  {
   "cell_type": "code",
   "execution_count": 96,
   "id": "5fb8cd9b",
   "metadata": {},
   "outputs": [
    {
     "ename": "FileNotFoundError",
     "evalue": "[Errno 2] No such file or directory: 'secuencias.dnd'",
     "output_type": "error",
     "traceback": [
      "\u001b[1;31m---------------------------------------------------------------------------\u001b[0m",
      "\u001b[1;31mFileNotFoundError\u001b[0m                         Traceback (most recent call last)",
      "Input \u001b[1;32mIn [96]\u001b[0m, in \u001b[0;36m<cell line: 2>\u001b[1;34m()\u001b[0m\n\u001b[0;32m      1\u001b[0m \u001b[38;5;28;01mfrom\u001b[39;00m \u001b[38;5;21;01mBio\u001b[39;00m \u001b[38;5;28;01mimport\u001b[39;00m Phylo\n\u001b[1;32m----> 2\u001b[0m tree \u001b[38;5;241m=\u001b[39m \u001b[43mPhylo\u001b[49m\u001b[38;5;241;43m.\u001b[39;49m\u001b[43mread\u001b[49m\u001b[43m(\u001b[49m\u001b[38;5;124;43m\"\u001b[39;49m\u001b[38;5;124;43msecuencias.dnd\u001b[39;49m\u001b[38;5;124;43m\"\u001b[39;49m\u001b[43m,\u001b[49m\u001b[43m \u001b[49m\u001b[38;5;124;43m\"\u001b[39;49m\u001b[38;5;124;43mnewick\u001b[39;49m\u001b[38;5;124;43m\"\u001b[39;49m\u001b[43m)\u001b[49m\n",
      "File \u001b[1;32m~\\anaconda3\\lib\\site-packages\\Bio\\Phylo\\_io.py:60\u001b[0m, in \u001b[0;36mread\u001b[1;34m(file, format, **kwargs)\u001b[0m\n\u001b[0;32m     58\u001b[0m \u001b[38;5;28;01mtry\u001b[39;00m:\n\u001b[0;32m     59\u001b[0m     tree_gen \u001b[38;5;241m=\u001b[39m parse(file, \u001b[38;5;28mformat\u001b[39m, \u001b[38;5;241m*\u001b[39m\u001b[38;5;241m*\u001b[39mkwargs)\n\u001b[1;32m---> 60\u001b[0m     tree \u001b[38;5;241m=\u001b[39m \u001b[38;5;28;43mnext\u001b[39;49m\u001b[43m(\u001b[49m\u001b[43mtree_gen\u001b[49m\u001b[43m)\u001b[49m\n\u001b[0;32m     61\u001b[0m \u001b[38;5;28;01mexcept\u001b[39;00m \u001b[38;5;167;01mStopIteration\u001b[39;00m:\n\u001b[0;32m     62\u001b[0m     \u001b[38;5;28;01mraise\u001b[39;00m \u001b[38;5;167;01mValueError\u001b[39;00m(\u001b[38;5;124m\"\u001b[39m\u001b[38;5;124mThere are no trees in this file.\u001b[39m\u001b[38;5;124m\"\u001b[39m) \u001b[38;5;28;01mfrom\u001b[39;00m \u001b[38;5;28mNone\u001b[39m\n",
      "File \u001b[1;32m~\\anaconda3\\lib\\site-packages\\Bio\\Phylo\\_io.py:48\u001b[0m, in \u001b[0;36mparse\u001b[1;34m(file, format, **kwargs)\u001b[0m\n\u001b[0;32m     33\u001b[0m \u001b[38;5;28;01mdef\u001b[39;00m \u001b[38;5;21mparse\u001b[39m(file, \u001b[38;5;28mformat\u001b[39m, \u001b[38;5;241m*\u001b[39m\u001b[38;5;241m*\u001b[39mkwargs):\n\u001b[0;32m     34\u001b[0m     \u001b[38;5;124;03m\"\"\"Parse a file iteratively, and yield each of the trees it contains.\u001b[39;00m\n\u001b[0;32m     35\u001b[0m \n\u001b[0;32m     36\u001b[0m \u001b[38;5;124;03m    If a file only contains one tree, this still returns an iterable object that\u001b[39;00m\n\u001b[1;32m   (...)\u001b[0m\n\u001b[0;32m     46\u001b[0m \n\u001b[0;32m     47\u001b[0m \u001b[38;5;124;03m    \"\"\"\u001b[39;00m\n\u001b[1;32m---> 48\u001b[0m     \u001b[38;5;28;01mwith\u001b[39;00m File\u001b[38;5;241m.\u001b[39mas_handle(file) \u001b[38;5;28;01mas\u001b[39;00m fp:\n\u001b[0;32m     49\u001b[0m         \u001b[38;5;28;01myield from\u001b[39;00m \u001b[38;5;28mgetattr\u001b[39m(supported_formats[\u001b[38;5;28mformat\u001b[39m], \u001b[38;5;124m\"\u001b[39m\u001b[38;5;124mparse\u001b[39m\u001b[38;5;124m\"\u001b[39m)(fp, \u001b[38;5;241m*\u001b[39m\u001b[38;5;241m*\u001b[39mkwargs)\n",
      "File \u001b[1;32m~\\anaconda3\\lib\\contextlib.py:119\u001b[0m, in \u001b[0;36m_GeneratorContextManager.__enter__\u001b[1;34m(self)\u001b[0m\n\u001b[0;32m    117\u001b[0m \u001b[38;5;28;01mdel\u001b[39;00m \u001b[38;5;28mself\u001b[39m\u001b[38;5;241m.\u001b[39margs, \u001b[38;5;28mself\u001b[39m\u001b[38;5;241m.\u001b[39mkwds, \u001b[38;5;28mself\u001b[39m\u001b[38;5;241m.\u001b[39mfunc\n\u001b[0;32m    118\u001b[0m \u001b[38;5;28;01mtry\u001b[39;00m:\n\u001b[1;32m--> 119\u001b[0m     \u001b[38;5;28;01mreturn\u001b[39;00m \u001b[38;5;28;43mnext\u001b[39;49m\u001b[43m(\u001b[49m\u001b[38;5;28;43mself\u001b[39;49m\u001b[38;5;241;43m.\u001b[39;49m\u001b[43mgen\u001b[49m\u001b[43m)\u001b[49m\n\u001b[0;32m    120\u001b[0m \u001b[38;5;28;01mexcept\u001b[39;00m \u001b[38;5;167;01mStopIteration\u001b[39;00m:\n\u001b[0;32m    121\u001b[0m     \u001b[38;5;28;01mraise\u001b[39;00m \u001b[38;5;167;01mRuntimeError\u001b[39;00m(\u001b[38;5;124m\"\u001b[39m\u001b[38;5;124mgenerator didn\u001b[39m\u001b[38;5;124m'\u001b[39m\u001b[38;5;124mt yield\u001b[39m\u001b[38;5;124m\"\u001b[39m) \u001b[38;5;28;01mfrom\u001b[39;00m \u001b[38;5;28mNone\u001b[39m\n",
      "File \u001b[1;32m~\\anaconda3\\lib\\site-packages\\Bio\\File.py:72\u001b[0m, in \u001b[0;36mas_handle\u001b[1;34m(handleish, mode, **kwargs)\u001b[0m\n\u001b[0;32m     30\u001b[0m \u001b[38;5;124mr\u001b[39m\u001b[38;5;124;03m\"\"\"Context manager to ensure we are using a handle.\u001b[39;00m\n\u001b[0;32m     31\u001b[0m \n\u001b[0;32m     32\u001b[0m \u001b[38;5;124;03mContext manager for arguments that can be passed to SeqIO and AlignIO read, write,\u001b[39;00m\n\u001b[1;32m   (...)\u001b[0m\n\u001b[0;32m     69\u001b[0m \n\u001b[0;32m     70\u001b[0m \u001b[38;5;124;03m\"\"\"\u001b[39;00m\n\u001b[0;32m     71\u001b[0m \u001b[38;5;28;01mtry\u001b[39;00m:\n\u001b[1;32m---> 72\u001b[0m     \u001b[38;5;28;01mwith\u001b[39;00m \u001b[38;5;28mopen\u001b[39m(handleish, mode, \u001b[38;5;241m*\u001b[39m\u001b[38;5;241m*\u001b[39mkwargs) \u001b[38;5;28;01mas\u001b[39;00m fp:\n\u001b[0;32m     73\u001b[0m         \u001b[38;5;28;01myield\u001b[39;00m fp\n\u001b[0;32m     74\u001b[0m \u001b[38;5;28;01mexcept\u001b[39;00m \u001b[38;5;167;01mTypeError\u001b[39;00m:\n",
      "\u001b[1;31mFileNotFoundError\u001b[0m: [Errno 2] No such file or directory: 'secuencias.dnd'"
     ]
    }
   ],
   "source": [
    "from Bio import Phylo\n",
    "tree = Phylo.read(\"secuencias.dnd\", \"newick\")"
   ]
  },
  {
   "cell_type": "code",
   "execution_count": null,
   "id": "5d71de3c",
   "metadata": {},
   "outputs": [],
   "source": [
    "with open(\"secuencias.aln\",\"r\") as aln: \n",
    "    alignment = AlignIO.read(aln,\"clustal\")\n",
    "    \n",
    "from Bio.Phylo.TreeConstruction import DistanceCalculator \n",
    "calculator = DistanceCalculator('identity')\n",
    " \n",
    "distance_matrix = calculator.get_distance(alignment)\n",
    "\n",
    "\n",
    "from Bio.Phylo.TreeConstruction import DistanceTreeConstructor\n",
    "constructor = DistanceTreeConstructor(calculator)\n",
    "# Construir el arbol \n",
    "mic_tree = constructor.build_tree(alignment)\n",
    "mic_tree.rooted = True\n",
    "Phylo.write(mic_tree, \"tree.xml\", \"phyloxml\")\n",
    "\n",
    "mic_tree = Phylo.read(file=\"tree.xml\", format= \"phyloxml\")\n",
    "\n",
    "# Arbol elemental en Matplotlib\n",
    "import matplotlib\n",
    "import matplotlib.pyplot as plt\n",
    "#fig = Phylo.draw(cis_tree)\n",
    "\n",
    "fig = plt.figure(figsize=(30, 40), dpi=100) # create figure & set the size \n",
    "matplotlib.rc('font', size=30)              # fontsize of the leaf and node labels \n",
    "matplotlib.rc('xtick', labelsize=20)       # fontsize of the tick labels\n",
    "matplotlib.rc('ytick', labelsize=20)       # fontsize of the tick labels\n",
    "axes = fig.add_subplot(1, 1, 1)\n",
    "Phylo.draw(mic_tree, axes=axes)\n",
    "fig.savefig(\"img/mic_tree.jpg\")"
   ]
  },
  {
   "cell_type": "code",
   "execution_count": null,
   "id": "4384c174",
   "metadata": {},
   "outputs": [],
   "source": []
  },
  {
   "cell_type": "code",
   "execution_count": null,
   "id": "6b81f464",
   "metadata": {},
   "outputs": [],
   "source": []
  },
  {
   "cell_type": "code",
   "execution_count": null,
   "id": "9b0f90f4",
   "metadata": {
    "scrolled": false
   },
   "outputs": [],
   "source": []
  },
  {
   "cell_type": "code",
   "execution_count": null,
   "id": "b6da451f",
   "metadata": {},
   "outputs": [],
   "source": []
  },
  {
   "cell_type": "code",
   "execution_count": null,
   "id": "c63919aa",
   "metadata": {},
   "outputs": [],
   "source": []
  },
  {
   "cell_type": "code",
   "execution_count": null,
   "id": "b1217fce",
   "metadata": {},
   "outputs": [],
   "source": []
  },
  {
   "cell_type": "code",
   "execution_count": null,
   "id": "eeef6946",
   "metadata": {},
   "outputs": [],
   "source": []
  }
 ],
 "metadata": {
  "kernelspec": {
   "display_name": "Python 3 (ipykernel)",
   "language": "python",
   "name": "python3"
  },
  "language_info": {
   "codemirror_mode": {
    "name": "ipython",
    "version": 3
   },
   "file_extension": ".py",
   "mimetype": "text/x-python",
   "name": "python",
   "nbconvert_exporter": "python",
   "pygments_lexer": "ipython3",
   "version": "3.9.12"
  }
 },
 "nbformat": 4,
 "nbformat_minor": 5
}
